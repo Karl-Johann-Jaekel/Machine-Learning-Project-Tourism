{
 "cells": [
  {
   "cell_type": "markdown",
   "metadata": {},
   "source": [
    "# Tanzania Tourism Prediction\n",
    "\n",
    "The objective of this hackathon is to develop a machine learning model to predict what a tourist will spend when visiting Tanzania.The model can be used by different tour operators and the Tanzania Tourism Board to automatically help tourists across the world estimate their expenditure before visiting Tanzania."
   ]
  },
  {
   "cell_type": "markdown",
   "metadata": {},
   "source": [
    "# Import"
   ]
  },
  {
   "cell_type": "code",
   "execution_count": 58,
   "metadata": {},
   "outputs": [],
   "source": [
    "import os\n",
    "\n",
    "import numpy as np\n",
    "import pandas as pd\n",
    "\n",
    "from scipy.stats import skew\n",
    "from scipy import stats\n",
    "from scipy.stats import norm\n",
    "from timeit import default_timer as timer\n",
    "\n",
    "\n",
    "# Modelling\n",
    "from sklearn.preprocessing import StandardScaler\n",
    "from sklearn.preprocessing import MinMaxScaler\n",
    "from sklearn.model_selection import train_test_split\n",
    "from sklearn.metrics import accuracy_score\n",
    "from sklearn.datasets import make_classification\n",
    "from sklearn.linear_model import LogisticRegression, SGDClassifier\n",
    "from sklearn.metrics import fbeta_score, make_scorer\n",
    "from sklearn.metrics import confusion_matrix\n",
    "from sklearn import metrics\n",
    "from sklearn.metrics import classification_report\n",
    "from sklearn.model_selection import GridSearchCV, RandomizedSearchCV\n",
    "from sklearn.model_selection import RepeatedStratifiedKFold\n",
    "from scipy.stats import loguniform\n",
    "\n",
    "# Plot\n",
    "import matplotlib.pyplot as plt\n",
    "import seaborn as sns\n",
    "#import plotly.express as px\n",
    "from matplotlib.ticker import PercentFormatter\n",
    "plt.rcParams.update({ \"figure.figsize\" : (8, 5),\"axes.facecolor\" : \"white\", \"axes.edgecolor\":  \"black\"})\n",
    "plt.rcParams[\"figure.facecolor\"]= \"w\"\n",
    "pd.plotting.register_matplotlib_converters()\n",
    "pd.set_option('display.float_format', lambda x: '%.3f' % x)\n",
    "pd.options.display.float_format = \"{:,.2f}\".format\n",
    "import warnings\n",
    "warnings.filterwarnings('ignore')\n",
    "\n",
    "RSEED = 42"
   ]
  },
  {
   "cell_type": "markdown",
   "metadata": {},
   "source": [
    "# Getting the Data"
   ]
  },
  {
   "cell_type": "code",
   "execution_count": 59,
   "metadata": {},
   "outputs": [],
   "source": [
    "train = pd.read_csv('data/Train.csv')\n",
    "test = pd.read_csv('data/Test.csv')"
   ]
  },
  {
   "cell_type": "code",
   "execution_count": 60,
   "metadata": {},
   "outputs": [
    {
     "data": {
      "text/html": [
       "<div>\n",
       "<style scoped>\n",
       "    .dataframe tbody tr th:only-of-type {\n",
       "        vertical-align: middle;\n",
       "    }\n",
       "\n",
       "    .dataframe tbody tr th {\n",
       "        vertical-align: top;\n",
       "    }\n",
       "\n",
       "    .dataframe thead th {\n",
       "        text-align: right;\n",
       "    }\n",
       "</style>\n",
       "<table border=\"1\" class=\"dataframe\">\n",
       "  <thead>\n",
       "    <tr style=\"text-align: right;\">\n",
       "      <th></th>\n",
       "      <th>ID</th>\n",
       "      <th>country</th>\n",
       "      <th>age_group</th>\n",
       "      <th>travel_with</th>\n",
       "      <th>total_female</th>\n",
       "      <th>total_male</th>\n",
       "      <th>purpose</th>\n",
       "      <th>main_activity</th>\n",
       "      <th>info_source</th>\n",
       "      <th>tour_arrangement</th>\n",
       "      <th>...</th>\n",
       "      <th>package_transport_tz</th>\n",
       "      <th>package_sightseeing</th>\n",
       "      <th>package_guided_tour</th>\n",
       "      <th>package_insurance</th>\n",
       "      <th>night_mainland</th>\n",
       "      <th>night_zanzibar</th>\n",
       "      <th>payment_mode</th>\n",
       "      <th>first_trip_tz</th>\n",
       "      <th>most_impressing</th>\n",
       "      <th>total_cost</th>\n",
       "    </tr>\n",
       "  </thead>\n",
       "  <tbody>\n",
       "    <tr>\n",
       "      <th>0</th>\n",
       "      <td>tour_0</td>\n",
       "      <td>SWIZERLAND</td>\n",
       "      <td>45-64</td>\n",
       "      <td>Friends/Relatives</td>\n",
       "      <td>1.00</td>\n",
       "      <td>1.00</td>\n",
       "      <td>Leisure and Holidays</td>\n",
       "      <td>Wildlife tourism</td>\n",
       "      <td>Friends, relatives</td>\n",
       "      <td>Independent</td>\n",
       "      <td>...</td>\n",
       "      <td>No</td>\n",
       "      <td>No</td>\n",
       "      <td>No</td>\n",
       "      <td>No</td>\n",
       "      <td>13.00</td>\n",
       "      <td>0.00</td>\n",
       "      <td>Cash</td>\n",
       "      <td>No</td>\n",
       "      <td>Friendly People</td>\n",
       "      <td>674,602.50</td>\n",
       "    </tr>\n",
       "    <tr>\n",
       "      <th>1</th>\n",
       "      <td>tour_10</td>\n",
       "      <td>UNITED KINGDOM</td>\n",
       "      <td>25-44</td>\n",
       "      <td>NaN</td>\n",
       "      <td>1.00</td>\n",
       "      <td>0.00</td>\n",
       "      <td>Leisure and Holidays</td>\n",
       "      <td>Cultural tourism</td>\n",
       "      <td>others</td>\n",
       "      <td>Independent</td>\n",
       "      <td>...</td>\n",
       "      <td>No</td>\n",
       "      <td>No</td>\n",
       "      <td>No</td>\n",
       "      <td>No</td>\n",
       "      <td>14.00</td>\n",
       "      <td>7.00</td>\n",
       "      <td>Cash</td>\n",
       "      <td>Yes</td>\n",
       "      <td>Wonderful Country, Landscape, Nature</td>\n",
       "      <td>3,214,906.50</td>\n",
       "    </tr>\n",
       "    <tr>\n",
       "      <th>2</th>\n",
       "      <td>tour_1000</td>\n",
       "      <td>UNITED KINGDOM</td>\n",
       "      <td>25-44</td>\n",
       "      <td>Alone</td>\n",
       "      <td>0.00</td>\n",
       "      <td>1.00</td>\n",
       "      <td>Visiting Friends and Relatives</td>\n",
       "      <td>Cultural tourism</td>\n",
       "      <td>Friends, relatives</td>\n",
       "      <td>Independent</td>\n",
       "      <td>...</td>\n",
       "      <td>No</td>\n",
       "      <td>No</td>\n",
       "      <td>No</td>\n",
       "      <td>No</td>\n",
       "      <td>1.00</td>\n",
       "      <td>31.00</td>\n",
       "      <td>Cash</td>\n",
       "      <td>No</td>\n",
       "      <td>Excellent Experience</td>\n",
       "      <td>3,315,000.00</td>\n",
       "    </tr>\n",
       "    <tr>\n",
       "      <th>3</th>\n",
       "      <td>tour_1002</td>\n",
       "      <td>UNITED KINGDOM</td>\n",
       "      <td>25-44</td>\n",
       "      <td>Spouse</td>\n",
       "      <td>1.00</td>\n",
       "      <td>1.00</td>\n",
       "      <td>Leisure and Holidays</td>\n",
       "      <td>Wildlife tourism</td>\n",
       "      <td>Travel, agent, tour operator</td>\n",
       "      <td>Package Tour</td>\n",
       "      <td>...</td>\n",
       "      <td>Yes</td>\n",
       "      <td>Yes</td>\n",
       "      <td>Yes</td>\n",
       "      <td>No</td>\n",
       "      <td>11.00</td>\n",
       "      <td>0.00</td>\n",
       "      <td>Cash</td>\n",
       "      <td>Yes</td>\n",
       "      <td>Friendly People</td>\n",
       "      <td>7,790,250.00</td>\n",
       "    </tr>\n",
       "    <tr>\n",
       "      <th>4</th>\n",
       "      <td>tour_1004</td>\n",
       "      <td>CHINA</td>\n",
       "      <td>1-24</td>\n",
       "      <td>NaN</td>\n",
       "      <td>1.00</td>\n",
       "      <td>0.00</td>\n",
       "      <td>Leisure and Holidays</td>\n",
       "      <td>Wildlife tourism</td>\n",
       "      <td>Travel, agent, tour operator</td>\n",
       "      <td>Independent</td>\n",
       "      <td>...</td>\n",
       "      <td>No</td>\n",
       "      <td>No</td>\n",
       "      <td>No</td>\n",
       "      <td>No</td>\n",
       "      <td>7.00</td>\n",
       "      <td>4.00</td>\n",
       "      <td>Cash</td>\n",
       "      <td>Yes</td>\n",
       "      <td>No comments</td>\n",
       "      <td>1,657,500.00</td>\n",
       "    </tr>\n",
       "  </tbody>\n",
       "</table>\n",
       "<p>5 rows × 23 columns</p>\n",
       "</div>"
      ],
      "text/plain": [
       "          ID         country age_group        travel_with  total_female   \n",
       "0     tour_0      SWIZERLAND     45-64  Friends/Relatives          1.00  \\\n",
       "1    tour_10  UNITED KINGDOM     25-44                NaN          1.00   \n",
       "2  tour_1000  UNITED KINGDOM     25-44              Alone          0.00   \n",
       "3  tour_1002  UNITED KINGDOM     25-44             Spouse          1.00   \n",
       "4  tour_1004           CHINA      1-24                NaN          1.00   \n",
       "\n",
       "   total_male                         purpose     main_activity   \n",
       "0        1.00            Leisure and Holidays  Wildlife tourism  \\\n",
       "1        0.00            Leisure and Holidays  Cultural tourism   \n",
       "2        1.00  Visiting Friends and Relatives  Cultural tourism   \n",
       "3        1.00            Leisure and Holidays  Wildlife tourism   \n",
       "4        0.00            Leisure and Holidays  Wildlife tourism   \n",
       "\n",
       "                    info_source tour_arrangement  ... package_transport_tz   \n",
       "0            Friends, relatives      Independent  ...                   No  \\\n",
       "1                        others      Independent  ...                   No   \n",
       "2            Friends, relatives      Independent  ...                   No   \n",
       "3  Travel, agent, tour operator     Package Tour  ...                  Yes   \n",
       "4  Travel, agent, tour operator      Independent  ...                   No   \n",
       "\n",
       "  package_sightseeing package_guided_tour package_insurance night_mainland   \n",
       "0                  No                  No                No          13.00  \\\n",
       "1                  No                  No                No          14.00   \n",
       "2                  No                  No                No           1.00   \n",
       "3                 Yes                 Yes                No          11.00   \n",
       "4                  No                  No                No           7.00   \n",
       "\n",
       "  night_zanzibar payment_mode  first_trip_tz   \n",
       "0           0.00         Cash             No  \\\n",
       "1           7.00         Cash            Yes   \n",
       "2          31.00         Cash             No   \n",
       "3           0.00         Cash            Yes   \n",
       "4           4.00         Cash            Yes   \n",
       "\n",
       "                        most_impressing   total_cost  \n",
       "0                       Friendly People   674,602.50  \n",
       "1  Wonderful Country, Landscape, Nature 3,214,906.50  \n",
       "2                  Excellent Experience 3,315,000.00  \n",
       "3                       Friendly People 7,790,250.00  \n",
       "4                           No comments 1,657,500.00  \n",
       "\n",
       "[5 rows x 23 columns]"
      ]
     },
     "execution_count": 60,
     "metadata": {},
     "output_type": "execute_result"
    }
   ],
   "source": [
    "train.head()\n"
   ]
  },
  {
   "cell_type": "code",
   "execution_count": 61,
   "metadata": {},
   "outputs": [
    {
     "name": "stdout",
     "output_type": "stream",
     "text": [
      "Train dataset:\n",
      "# observations: 4809\n",
      "# features:     22\n",
      "==================\n",
      "Test dataset:\n",
      "# observations: 1601\n",
      "# features:     21\n"
     ]
    }
   ],
   "source": [
    "#Print the shape of the data\n",
    "print('Train dataset:')\n",
    "print('# observations: {}'.format(train.shape[0]))\n",
    "print('# features:     {}'.format(train.shape[1]-1))\n",
    "print('==================')\n",
    "print('Test dataset:')\n",
    "print('# observations: {}'.format(test.shape[0]))\n",
    "print('# features:     {}'.format(test.shape[1]-1))"
   ]
  },
  {
   "cell_type": "code",
   "execution_count": 62,
   "metadata": {},
   "outputs": [
    {
     "data": {
      "text/plain": [
       "Index(['ID', 'country', 'age_group', 'travel_with', 'total_female',\n",
       "       'total_male', 'purpose', 'main_activity', 'info_source',\n",
       "       'tour_arrangement', 'package_transport_int', 'package_accomodation',\n",
       "       'package_food', 'package_transport_tz', 'package_sightseeing',\n",
       "       'package_guided_tour', 'package_insurance', 'night_mainland',\n",
       "       'night_zanzibar', 'payment_mode', 'first_trip_tz', 'most_impressing',\n",
       "       'total_cost'],\n",
       "      dtype='object')"
      ]
     },
     "execution_count": 62,
     "metadata": {},
     "output_type": "execute_result"
    }
   ],
   "source": [
    "#Exploring the Train-Data\n",
    "train.columns"
   ]
  },
  {
   "cell_type": "code",
   "execution_count": 63,
   "metadata": {},
   "outputs": [
    {
     "data": {
      "text/plain": [
       "Index(['ID', 'country', 'age_group', 'travel_with', 'total_female',\n",
       "       'total_male', 'purpose', 'main_activity', 'info_source',\n",
       "       'tour_arrangement', 'package_transport_int', 'package_accomodation',\n",
       "       'package_food', 'package_transport_tz', 'package_sightseeing',\n",
       "       'package_guided_tour', 'package_insurance', 'night_mainland',\n",
       "       'night_zanzibar', 'payment_mode', 'first_trip_tz', 'most_impressing'],\n",
       "      dtype='object')"
      ]
     },
     "execution_count": 63,
     "metadata": {},
     "output_type": "execute_result"
    }
   ],
   "source": [
    "#Exploring the Test-Data --> \"total_cost\"-Column is missing\n",
    "test.columns"
   ]
  },
  {
   "cell_type": "code",
   "execution_count": 64,
   "metadata": {},
   "outputs": [
    {
     "data": {
      "text/plain": [
       "<bound method DataFrame.info of              ID                   country age_group        travel_with   \n",
       "0        tour_0                SWIZERLAND     45-64  Friends/Relatives  \\\n",
       "1       tour_10            UNITED KINGDOM     25-44                NaN   \n",
       "2     tour_1000            UNITED KINGDOM     25-44              Alone   \n",
       "3     tour_1002            UNITED KINGDOM     25-44             Spouse   \n",
       "4     tour_1004                     CHINA      1-24                NaN   \n",
       "...         ...                       ...       ...                ...   \n",
       "4804   tour_993                       UAE     45-64              Alone   \n",
       "4805   tour_994  UNITED STATES OF AMERICA     25-44             Spouse   \n",
       "4806   tour_995               NETHERLANDS      1-24                NaN   \n",
       "4807   tour_997              SOUTH AFRICA     25-44  Friends/Relatives   \n",
       "4808   tour_999            UNITED KINGDOM     25-44             Spouse   \n",
       "\n",
       "      total_female  total_male                         purpose   \n",
       "0             1.00        1.00            Leisure and Holidays  \\\n",
       "1             1.00        0.00            Leisure and Holidays   \n",
       "2             0.00        1.00  Visiting Friends and Relatives   \n",
       "3             1.00        1.00            Leisure and Holidays   \n",
       "4             1.00        0.00            Leisure and Holidays   \n",
       "...            ...         ...                             ...   \n",
       "4804          0.00        1.00                        Business   \n",
       "4805          1.00        1.00            Leisure and Holidays   \n",
       "4806          1.00        0.00            Leisure and Holidays   \n",
       "4807          1.00        1.00                        Business   \n",
       "4808          1.00        1.00            Leisure and Holidays   \n",
       "\n",
       "         main_activity                   info_source tour_arrangement  ...   \n",
       "0     Wildlife tourism            Friends, relatives      Independent  ...  \\\n",
       "1     Cultural tourism                        others      Independent  ...   \n",
       "2     Cultural tourism            Friends, relatives      Independent  ...   \n",
       "3     Wildlife tourism  Travel, agent, tour operator     Package Tour  ...   \n",
       "4     Wildlife tourism  Travel, agent, tour operator      Independent  ...   \n",
       "...                ...                           ...              ...  ...   \n",
       "4804   Hunting tourism            Friends, relatives      Independent  ...   \n",
       "4805  Wildlife tourism  Travel, agent, tour operator     Package Tour  ...   \n",
       "4806  Wildlife tourism                        others      Independent  ...   \n",
       "4807     Beach tourism  Travel, agent, tour operator      Independent  ...   \n",
       "4808  Wildlife tourism  Travel, agent, tour operator     Package Tour  ...   \n",
       "\n",
       "     package_transport_tz package_sightseeing package_guided_tour   \n",
       "0                      No                  No                  No  \\\n",
       "1                      No                  No                  No   \n",
       "2                      No                  No                  No   \n",
       "3                     Yes                 Yes                 Yes   \n",
       "4                      No                  No                  No   \n",
       "...                   ...                 ...                 ...   \n",
       "4804                   No                  No                  No   \n",
       "4805                  Yes                 Yes                 Yes   \n",
       "4806                   No                  No                  No   \n",
       "4807                   No                  No                  No   \n",
       "4808                  Yes                 Yes                 Yes   \n",
       "\n",
       "     package_insurance night_mainland night_zanzibar payment_mode   \n",
       "0                   No          13.00           0.00         Cash  \\\n",
       "1                   No          14.00           7.00         Cash   \n",
       "2                   No           1.00          31.00         Cash   \n",
       "3                   No          11.00           0.00         Cash   \n",
       "4                   No           7.00           4.00         Cash   \n",
       "...                ...            ...            ...          ...   \n",
       "4804                No           2.00           0.00  Credit Card   \n",
       "4805               Yes          11.00           0.00         Cash   \n",
       "4806                No           3.00           7.00         Cash   \n",
       "4807                No           5.00           0.00  Credit Card   \n",
       "4808                No           4.00           7.00         Cash   \n",
       "\n",
       "      first_trip_tz                       most_impressing    total_cost  \n",
       "0                No                       Friendly People    674,602.50  \n",
       "1               Yes  Wonderful Country, Landscape, Nature  3,214,906.50  \n",
       "2                No                  Excellent Experience  3,315,000.00  \n",
       "3               Yes                       Friendly People  7,790,250.00  \n",
       "4               Yes                           No comments  1,657,500.00  \n",
       "...             ...                                   ...           ...  \n",
       "4804             No                           No comments  3,315,000.00  \n",
       "4805            Yes                       Friendly People 10,690,875.00  \n",
       "4806            Yes                          Good service  2,246,636.70  \n",
       "4807             No                       Friendly People  1,160,250.00  \n",
       "4808            Yes                       Friendly People 13,260,000.00  \n",
       "\n",
       "[4809 rows x 23 columns]>"
      ]
     },
     "execution_count": 64,
     "metadata": {},
     "output_type": "execute_result"
    }
   ],
   "source": [
    "train.info"
   ]
  },
  {
   "cell_type": "code",
   "execution_count": 65,
   "metadata": {},
   "outputs": [],
   "source": [
    "#df_train.describe().T"
   ]
  },
  {
   "cell_type": "code",
   "execution_count": 66,
   "metadata": {},
   "outputs": [
    {
     "data": {
      "text/plain": [
       "ID                          0\n",
       "country                     0\n",
       "age_group                   0\n",
       "travel_with              1114\n",
       "total_female                3\n",
       "total_male                  5\n",
       "purpose                     0\n",
       "main_activity               0\n",
       "info_source                 0\n",
       "tour_arrangement            0\n",
       "package_transport_int       0\n",
       "package_accomodation        0\n",
       "package_food                0\n",
       "package_transport_tz        0\n",
       "package_sightseeing         0\n",
       "package_guided_tour         0\n",
       "package_insurance           0\n",
       "night_mainland              0\n",
       "night_zanzibar              0\n",
       "payment_mode                0\n",
       "first_trip_tz               0\n",
       "most_impressing           313\n",
       "total_cost                  0\n",
       "dtype: int64"
      ]
     },
     "execution_count": 66,
     "metadata": {},
     "output_type": "execute_result"
    }
   ],
   "source": [
    "train.isnull().sum()"
   ]
  },
  {
   "cell_type": "markdown",
   "metadata": {},
   "source": [
    "# Data cleaning in and feature engineering"
   ]
  },
  {
   "cell_type": "code",
   "execution_count": 67,
   "metadata": {},
   "outputs": [
    {
     "name": "stdout",
     "output_type": "stream",
     "text": [
      "<class 'pandas.core.frame.DataFrame'>\n",
      "RangeIndex: 4809 entries, 0 to 4808\n",
      "Data columns (total 23 columns):\n",
      " #   Column                 Non-Null Count  Dtype  \n",
      "---  ------                 --------------  -----  \n",
      " 0   ID                     4809 non-null   object \n",
      " 1   country                4809 non-null   object \n",
      " 2   age_group              4809 non-null   object \n",
      " 3   travel_with            3695 non-null   object \n",
      " 4   total_female           4806 non-null   float64\n",
      " 5   total_male             4804 non-null   float64\n",
      " 6   purpose                4809 non-null   object \n",
      " 7   main_activity          4809 non-null   object \n",
      " 8   info_source            4809 non-null   object \n",
      " 9   tour_arrangement       4809 non-null   object \n",
      " 10  package_transport_int  4809 non-null   object \n",
      " 11  package_accomodation   4809 non-null   object \n",
      " 12  package_food           4809 non-null   object \n",
      " 13  package_transport_tz   4809 non-null   object \n",
      " 14  package_sightseeing    4809 non-null   object \n",
      " 15  package_guided_tour    4809 non-null   object \n",
      " 16  package_insurance      4809 non-null   object \n",
      " 17  night_mainland         4809 non-null   float64\n",
      " 18  night_zanzibar         4809 non-null   float64\n",
      " 19  payment_mode           4809 non-null   object \n",
      " 20  first_trip_tz          4809 non-null   object \n",
      " 21  most_impressing        4496 non-null   object \n",
      " 22  total_cost             4809 non-null   float64\n",
      "dtypes: float64(5), object(18)\n",
      "memory usage: 864.2+ KB\n"
     ]
    }
   ],
   "source": [
    "train.info()"
   ]
  },
  {
   "cell_type": "code",
   "execution_count": 75,
   "metadata": {},
   "outputs": [],
   "source": [
    "# Make all column names lowercase and snake_case\n",
    "train.columns = (\n",
    "    train.columns.str.strip()           # remove spaces around names\n",
    "                 .str.lower()            # lowercase\n",
    "                 .str.replace(' ', '_') ) # replace spaces with underscores\n",
    "\n",
    "# Fill missing values in categorical columns\n",
    "train['travel_with'] = train['travel_with'].fillna('Unknown')\n",
    "train['most_impressing'] = train['most_impressing'].fillna('No Comments')\n",
    "train['total_female'] = train['total_female'].fillna(0)\n",
    "train['total_male'] = train['total_male'].fillna(0)"
   ]
  },
  {
   "cell_type": "code",
   "execution_count": 76,
   "metadata": {},
   "outputs": [
    {
     "data": {
      "text/plain": [
       "id                       0\n",
       "country                  0\n",
       "age_group                0\n",
       "travel_with              0\n",
       "total_female             0\n",
       "total_male               0\n",
       "purpose                  0\n",
       "main_activity            0\n",
       "info_source              0\n",
       "tour_arrangement         0\n",
       "package_transport_int    0\n",
       "package_accomodation     0\n",
       "package_food             0\n",
       "package_transport_tz     0\n",
       "package_sightseeing      0\n",
       "package_guided_tour      0\n",
       "package_insurance        0\n",
       "night_mainland           0\n",
       "night_zanzibar           0\n",
       "payment_mode             0\n",
       "first_trip_tz            0\n",
       "most_impressing          0\n",
       "total_cost               0\n",
       "dtype: int64"
      ]
     },
     "execution_count": 76,
     "metadata": {},
     "output_type": "execute_result"
    }
   ],
   "source": [
    "train.isnull().sum()"
   ]
  },
  {
   "cell_type": "code",
   "execution_count": 68,
   "metadata": {},
   "outputs": [
    {
     "name": "stdout",
     "output_type": "stream",
     "text": [
      "✅ Encoding complete!\n",
      "Train shape: (4809, 23)\n",
      "Test shape: (1601, 23)\n",
      "\n",
      "Encoded train columns preview:\n",
      " ['id', 'country', 'age_group', 'travel_with', 'total_female', 'total_male', 'purpose', 'main_activity', 'info_source', 'tour_arrangement', 'package_transport_int', 'package_accomodation', 'package_food', 'package_transport_tz', 'package_sightseeing']\n"
     ]
    }
   ],
   "source": [
    "# Make all column names lowercase and snake_case\n",
    "train.columns = (\n",
    "    train.columns.str.strip()           # remove spaces around names\n",
    "                 .str.lower()            # lowercase\n",
    "                 .str.replace(' ', '_') ) # replace spaces with underscores\n",
    "\n",
    "# Standardize capitalization and remove spaces\n",
    "text_cols = [\n",
    "    'country', 'age_group', 'travel_with', 'purpose', 'main_activity',\n",
    "    'info_source', 'tour_arrangement', 'payment_mode', 'most_impressing']\n",
    "# CONVERT binary Yes/No columns to numeric (1/0) \n",
    "binary_cols = ['package_transport_int', 'package_accomodation', 'package_food',\n",
    "    'package_transport_tz', 'package_sightseeing', 'package_guided_tour',\n",
    "    'package_insurance', 'first_trip_tz']\n",
    "\n",
    "# Replace 'Yes' with 1 and 'No' with 0 for each binary column for both train and test datasets\n",
    "for col in binary_cols:\n",
    "    train[col] = train[col].map({'Yes': 1, 'No': 0})\n",
    "    test[col] = test[col].map({'Yes': 1, 'No': 0})\n",
    "\n",
    "cat_cols = [\n",
    "    'country', 'travel_with', 'purpose', 'main_activity',\n",
    "    'info_source', 'tour_arrangement', 'payment_mode', 'most_impressing'\n",
    "]\n",
    "# Apply one-hot encoding to both train and test sets --> expands categorical columns into multiple binary columns --> makes no sense\n",
    "# for col in cat_cols:\n",
    "#    train = pd.get_dummies(train, columns=[col], drop_first=True)\n",
    "#    test = pd.get_dummies(test, columns=[col], drop_first=True)\n",
    "\n",
    "train, test = train.align(test, join='left', axis=1, fill_value=0)\n",
    "\n",
    "# --- CHECK shapes and verify data ---\n",
    "print(\"✅ Encoding complete!\")\n",
    "print(\"Train shape:\", train.shape)\n",
    "print(\"Test shape:\", test.shape)\n",
    "\n",
    "# Check a few first columns to confirm encoding worked\n",
    "print(\"\\nEncoded train columns preview:\\n\", train.columns[:15].tolist())"
   ]
  },
  {
   "cell_type": "code",
   "execution_count": 69,
   "metadata": {},
   "outputs": [
    {
     "name": "stdout",
     "output_type": "stream",
     "text": [
      "<class 'pandas.core.frame.DataFrame'>\n",
      "RangeIndex: 4809 entries, 0 to 4808\n",
      "Data columns (total 23 columns):\n",
      " #   Column                 Non-Null Count  Dtype  \n",
      "---  ------                 --------------  -----  \n",
      " 0   id                     4809 non-null   object \n",
      " 1   country                4809 non-null   object \n",
      " 2   age_group              4809 non-null   object \n",
      " 3   travel_with            3695 non-null   object \n",
      " 4   total_female           4806 non-null   float64\n",
      " 5   total_male             4804 non-null   float64\n",
      " 6   purpose                4809 non-null   object \n",
      " 7   main_activity          4809 non-null   object \n",
      " 8   info_source            4809 non-null   object \n",
      " 9   tour_arrangement       4809 non-null   object \n",
      " 10  package_transport_int  4809 non-null   int64  \n",
      " 11  package_accomodation   4809 non-null   int64  \n",
      " 12  package_food           4809 non-null   int64  \n",
      " 13  package_transport_tz   4809 non-null   int64  \n",
      " 14  package_sightseeing    4809 non-null   int64  \n",
      " 15  package_guided_tour    4809 non-null   int64  \n",
      " 16  package_insurance      4809 non-null   int64  \n",
      " 17  night_mainland         4809 non-null   float64\n",
      " 18  night_zanzibar         4809 non-null   float64\n",
      " 19  payment_mode           4809 non-null   object \n",
      " 20  first_trip_tz          4809 non-null   int64  \n",
      " 21  most_impressing        4496 non-null   object \n",
      " 22  total_cost             4809 non-null   float64\n",
      "dtypes: float64(5), int64(8), object(10)\n",
      "memory usage: 864.2+ KB\n"
     ]
    }
   ],
   "source": [
    "train.info()"
   ]
  },
  {
   "cell_type": "code",
   "execution_count": 70,
   "metadata": {},
   "outputs": [
    {
     "name": "stdout",
     "output_type": "stream",
     "text": [
      "🔍 Found 0 boolean columns.\n",
      "\n",
      "✅ After dtype conversion:\n",
      "<class 'pandas.core.frame.DataFrame'>\n",
      "RangeIndex: 4809 entries, 0 to 4808\n",
      "Data columns (total 23 columns):\n",
      " #   Column                 Non-Null Count  Dtype  \n",
      "---  ------                 --------------  -----  \n",
      " 0   id                     4809 non-null   object \n",
      " 1   country                4809 non-null   object \n",
      " 2   age_group              4809 non-null   object \n",
      " 3   travel_with            3695 non-null   object \n",
      " 4   total_female           4806 non-null   float64\n",
      " 5   total_male             4804 non-null   float64\n",
      " 6   purpose                4809 non-null   object \n",
      " 7   main_activity          4809 non-null   object \n",
      " 8   info_source            4809 non-null   object \n",
      " 9   tour_arrangement       4809 non-null   object \n",
      " 10  package_transport_int  4809 non-null   int64  \n",
      " 11  package_accomodation   4809 non-null   int64  \n",
      " 12  package_food           4809 non-null   int64  \n",
      " 13  package_transport_tz   4809 non-null   int64  \n",
      " 14  package_sightseeing    4809 non-null   int64  \n",
      " 15  package_guided_tour    4809 non-null   int64  \n",
      " 16  package_insurance      4809 non-null   int64  \n",
      " 17  night_mainland         4809 non-null   float64\n",
      " 18  night_zanzibar         4809 non-null   float64\n",
      " 19  payment_mode           4809 non-null   object \n",
      " 20  first_trip_tz          4809 non-null   int64  \n",
      " 21  most_impressing        4496 non-null   object \n",
      " 22  total_cost             4809 non-null   float64\n",
      "dtypes: float64(5), int64(8), object(10)\n",
      "memory usage: 864.2+ KB\n",
      "None\n"
     ]
    }
   ],
   "source": [
    "# --- Identify boolean columns ---\n",
    "bool_cols = train.select_dtypes(include='bool').columns\n",
    "print(\"🔍 Found\", len(bool_cols), \"boolean columns.\")\n",
    "\n",
    "# --- Convert bool → int (True=1, False=0) for both train and test ---\n",
    "train[bool_cols] = train[bool_cols].astype(int)\n",
    "\n",
    "# Intersection ensures only common columns are converted\n",
    "test[bool_cols.intersection(test.columns)] = (\n",
    "    test[bool_cols.intersection(test.columns)].astype(int)\n",
    ")\n",
    "\n",
    "# --- Check result ---\n",
    "print(\"\\n✅ After dtype conversion:\")\n",
    "print(train.info())"
   ]
  },
  {
   "cell_type": "markdown",
   "metadata": {},
   "source": [
    "Correlation Visualisation"
   ]
  },
  {
   "cell_type": "code",
   "execution_count": 71,
   "metadata": {},
   "outputs": [
    {
     "name": "stdout",
     "output_type": "stream",
     "text": [
      "Numeric columns used for correlation:\n",
      " ['total_female', 'total_male', 'night_mainland', 'night_zanzibar', 'total_cost']\n"
     ]
    }
   ],
   "source": [
    "# Select only numeric columns\n",
    "numeric_cols = raw_train.select_dtypes(include=['int64', 'float64'])\n",
    "print(\"Numeric columns used for correlation:\\n\", numeric_cols.columns.tolist())"
   ]
  },
  {
   "cell_type": "code",
   "execution_count": 72,
   "metadata": {},
   "outputs": [
    {
     "data": {
      "image/png": "[encoded data removed]",
      "text/plain": [
       "<Figure size 800x600 with 2 Axes>"
      ]
     },
     "metadata": {},
     "output_type": "display_data"
    }
   ],
   "source": [
    "import seaborn as sns\n",
    "import matplotlib.pyplot as plt\n",
    "\n",
    "plt.figure(figsize=(8,6))\n",
    "sns.heatmap(corr, annot=True, cmap='coolwarm', fmt='.2f', linewidths=0.5)\n",
    "plt.title('Correlation Heatmap (Raw Data)')\n",
    "plt.show()"
   ]
  },
  {
   "cell_type": "markdown",
   "metadata": {},
   "source": [
    "# Correlation Visualisation of the Data"
   ]
  },
  {
   "cell_type": "code",
   "execution_count": null,
   "metadata": {},
   "outputs": [],
   "source": []
  },
  {
   "cell_type": "markdown",
   "metadata": {},
   "source": [
    "## Splitting data for testing "
   ]
  },
  {
   "cell_type": "markdown",
   "metadata": {},
   "source": [
    "## Trainining the model"
   ]
  }
 ],
 "metadata": {
  "kernelspec": {
   "display_name": ".venv (3.11.3)",
   "language": "python",
   "name": "python3"
  },
  "language_info": {
   "codemirror_mode": {
    "name": "ipython",
    "version": 3
   },
   "file_extension": ".py",
   "mimetype": "text/x-python",
   "name": "python",
   "nbconvert_exporter": "python",
   "pygments_lexer": "ipython3",
   "version": "3.11.3"
  }
 },
 "nbformat": 4,
 "nbformat_minor": 4
}
